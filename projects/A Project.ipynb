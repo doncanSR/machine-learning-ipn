{
 "metadata": {
  "language_info": {
   "codemirror_mode": {
    "name": "ipython",
    "version": 3
   },
   "file_extension": ".py",
   "mimetype": "text/x-python",
   "name": "python",
   "nbconvert_exporter": "python",
   "pygments_lexer": "ipython3",
   "version": "3.9.0"
  },
  "orig_nbformat": 2,
  "kernelspec": {
   "name": "python3",
   "display_name": "Python 3.9.0 64-bit",
   "metadata": {
    "interpreter": {
     "hash": "63fd5069d213b44bf678585dea6b12cceca9941eaf7f819626cde1f2670de90d"
    }
   }
  }
 },
 "nbformat": 4,
 "nbformat_minor": 2,
 "cells": [
  {
   "cell_type": "code",
   "execution_count": 1,
   "metadata": {},
   "outputs": [
    {
     "output_type": "execute_result",
     "data": {
      "text/plain": [
       "   nombre  edad genero futbol teatro\n",
       "0      n1    21      h      y      n\n",
       "1      n2     0      h      y      n\n",
       "2      n3     6      m      n      n\n",
       "3      n4    12      h      y      n\n",
       "4      n5    28      m      n      n\n",
       "5      n6    19      h      y      n\n",
       "6      n7    43      m      n      n\n",
       "7      n8    34      h      y      n\n",
       "8      n9    15      h      n      n\n",
       "9     n10    23      m      y      n\n",
       "10    n11    32      h      y      n\n",
       "11    n12    45      h      n      n\n",
       "12    n13    76      m      y      n\n",
       "13    n15    14      h      y      n"
      ],
      "text/html": "<div>\n<style scoped>\n    .dataframe tbody tr th:only-of-type {\n        vertical-align: middle;\n    }\n\n    .dataframe tbody tr th {\n        vertical-align: top;\n    }\n\n    .dataframe thead th {\n        text-align: right;\n    }\n</style>\n<table border=\"1\" class=\"dataframe\">\n  <thead>\n    <tr style=\"text-align: right;\">\n      <th></th>\n      <th>nombre</th>\n      <th>edad</th>\n      <th>genero</th>\n      <th>futbol</th>\n      <th>teatro</th>\n    </tr>\n  </thead>\n  <tbody>\n    <tr>\n      <th>0</th>\n      <td>n1</td>\n      <td>21</td>\n      <td>h</td>\n      <td>y</td>\n      <td>n</td>\n    </tr>\n    <tr>\n      <th>1</th>\n      <td>n2</td>\n      <td>0</td>\n      <td>h</td>\n      <td>y</td>\n      <td>n</td>\n    </tr>\n    <tr>\n      <th>2</th>\n      <td>n3</td>\n      <td>6</td>\n      <td>m</td>\n      <td>n</td>\n      <td>n</td>\n    </tr>\n    <tr>\n      <th>3</th>\n      <td>n4</td>\n      <td>12</td>\n      <td>h</td>\n      <td>y</td>\n      <td>n</td>\n    </tr>\n    <tr>\n      <th>4</th>\n      <td>n5</td>\n      <td>28</td>\n      <td>m</td>\n      <td>n</td>\n      <td>n</td>\n    </tr>\n    <tr>\n      <th>5</th>\n      <td>n6</td>\n      <td>19</td>\n      <td>h</td>\n      <td>y</td>\n      <td>n</td>\n    </tr>\n    <tr>\n      <th>6</th>\n      <td>n7</td>\n      <td>43</td>\n      <td>m</td>\n      <td>n</td>\n      <td>n</td>\n    </tr>\n    <tr>\n      <th>7</th>\n      <td>n8</td>\n      <td>34</td>\n      <td>h</td>\n      <td>y</td>\n      <td>n</td>\n    </tr>\n    <tr>\n      <th>8</th>\n      <td>n9</td>\n      <td>15</td>\n      <td>h</td>\n      <td>n</td>\n      <td>n</td>\n    </tr>\n    <tr>\n      <th>9</th>\n      <td>n10</td>\n      <td>23</td>\n      <td>m</td>\n      <td>y</td>\n      <td>n</td>\n    </tr>\n    <tr>\n      <th>10</th>\n      <td>n11</td>\n      <td>32</td>\n      <td>h</td>\n      <td>y</td>\n      <td>n</td>\n    </tr>\n    <tr>\n      <th>11</th>\n      <td>n12</td>\n      <td>45</td>\n      <td>h</td>\n      <td>n</td>\n      <td>n</td>\n    </tr>\n    <tr>\n      <th>12</th>\n      <td>n13</td>\n      <td>76</td>\n      <td>m</td>\n      <td>y</td>\n      <td>n</td>\n    </tr>\n    <tr>\n      <th>13</th>\n      <td>n15</td>\n      <td>14</td>\n      <td>h</td>\n      <td>y</td>\n      <td>n</td>\n    </tr>\n  </tbody>\n</table>\n</div>"
     },
     "metadata": {},
     "execution_count": 1
    }
   ],
   "source": [
    "import pandas as pd\n",
    "\n",
    "data = pd.read_csv(\"datasets/data.csv\")\n",
    "\n",
    "data"
   ]
  },
  {
   "source": [
    "# Proyecto A:\n",
    "\n",
    "**Pista 1**. Para contar datos debemos segmentar el dataframe, es decir, filtrar todos los datos con cierta característica\n",
    "Intenta investigar sobre Dataframe.query para filtrar todos los hombres, luego, cuenta cuántos hombres fueron filtrados\n",
    "\n",
    "**Pista 2**. Para determinar una probabilidad, hay que calcular el porcentaje de \n",
    "(Total en Categoría) / (Total en todas las Categorías)\n",
    "Por ejemplo, P(H) = TOTAL(H) / TOTAL(H + M + ...)\n",
    "\n",
    "# Proyecto B\n",
    "\n",
    "**Pista 1**. Para codificar un valor, crea una función que transforme un dato en otro.\n",
    "\n",
    "Por ejemplo, \n",
    "\n",
    "```py\n",
    "def simbolo_a_numero(simbolo):\n",
    "    if simbolo == \"x\":\n",
    "        return -1\n",
    "    if simbolo == \"-\":\n",
    "        return 0\n",
    "    ...\n",
    "```\n",
    "\n",
    "**Pista 2**. Puedes mapear (transformar) una lista de datos usando `list(map(transformador, secuencia))`.\n"
   ],
   "cell_type": "markdown",
   "metadata": {}
  },
  {
   "cell_type": "code",
   "execution_count": null,
   "metadata": {},
   "outputs": [],
   "source": []
  }
 ]
}