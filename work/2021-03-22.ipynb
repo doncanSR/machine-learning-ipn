{
 "cells": [
  {
   "cell_type": "markdown",
   "metadata": {},
   "source": [
    "# Trabajo del día lunes 22 de marzo de 2021 | Doncan Alexis Sánchez Rico\n",
    "\n",
    "## Introducción\n",
    "\n",
    "En el siguiente documento de trabajo, se presentan una serie de ejercicios relacionados al curso de Machine Learning del CIC-IPN. El 50% de estos ejercicios son obligatorios para la evaluación final. Deberá elegir al menos uno de cada dos ejercicios para resolverlos y enviarlos al correo dragonnomada123 con el sujeto *Machine Learning IPN - Trabajo 8 marzo 2021*. En el contenido del correo deberá especificar su nombre completo y adjuntar el archivo *.ipynb* que contenga los ejercicios resueltos, en la primera celda de la _notebook_ deberá repetir en el título *Machine Learning IPN - Trabajo 8 marzo 2021* y su nombre completo. No hay fecha de entrega obligatoria, pero si no recibe correo de confirmación de entrega, deberá ser responsable de insistir en la entrega y respuesta."
   ]
  },
  {
   "cell_type": "markdown",
   "metadata": {},
   "source": [
    "En este trabajo usaremos a `datasets/iris.data`, el cuál contiene 5 columnas con información de las medidas de las flores Iris y su clasificación de muestras. En las siguientes celdas se muestra la extracción y estructuración de las 150 muestras en los conjuntos `X` y `Y`.\n",
    "\n",
    "Revise los códigos y resuelva los puntos marcados al final."
   ]
  },
  {
   "cell_type": "code",
   "execution_count": 2,
   "metadata": {},
   "outputs": [
    {
     "data": {
      "text/html": "<div>\n<style scoped>\n    .dataframe tbody tr th:only-of-type {\n        vertical-align: middle;\n    }\n\n    .dataframe tbody tr th {\n        vertical-align: top;\n    }\n\n    .dataframe thead th {\n        text-align: right;\n    }\n</style>\n<table border=\"1\" class=\"dataframe\">\n  <thead>\n    <tr style=\"text-align: right;\">\n      <th></th>\n      <th>SL</th>\n      <th>SW</th>\n      <th>PL</th>\n      <th>PW</th>\n      <th>C</th>\n    </tr>\n  </thead>\n  <tbody>\n    <tr>\n      <th>125</th>\n      <td>7.2</td>\n      <td>3.2</td>\n      <td>6.0</td>\n      <td>1.8</td>\n      <td>Iris-virginica</td>\n    </tr>\n    <tr>\n      <th>40</th>\n      <td>5.0</td>\n      <td>3.5</td>\n      <td>1.3</td>\n      <td>0.3</td>\n      <td>Iris-setosa</td>\n    </tr>\n    <tr>\n      <th>60</th>\n      <td>5.0</td>\n      <td>2.0</td>\n      <td>3.5</td>\n      <td>1.0</td>\n      <td>Iris-versicolor</td>\n    </tr>\n    <tr>\n      <th>137</th>\n      <td>6.4</td>\n      <td>3.1</td>\n      <td>5.5</td>\n      <td>1.8</td>\n      <td>Iris-virginica</td>\n    </tr>\n    <tr>\n      <th>46</th>\n      <td>5.1</td>\n      <td>3.8</td>\n      <td>1.6</td>\n      <td>0.2</td>\n      <td>Iris-setosa</td>\n    </tr>\n    <tr>\n      <th>...</th>\n      <td>...</td>\n      <td>...</td>\n      <td>...</td>\n      <td>...</td>\n      <td>...</td>\n    </tr>\n    <tr>\n      <th>84</th>\n      <td>5.4</td>\n      <td>3.0</td>\n      <td>4.5</td>\n      <td>1.5</td>\n      <td>Iris-versicolor</td>\n    </tr>\n    <tr>\n      <th>86</th>\n      <td>6.7</td>\n      <td>3.1</td>\n      <td>4.7</td>\n      <td>1.5</td>\n      <td>Iris-versicolor</td>\n    </tr>\n    <tr>\n      <th>96</th>\n      <td>5.7</td>\n      <td>2.9</td>\n      <td>4.2</td>\n      <td>1.3</td>\n      <td>Iris-versicolor</td>\n    </tr>\n    <tr>\n      <th>80</th>\n      <td>5.5</td>\n      <td>2.4</td>\n      <td>3.8</td>\n      <td>1.1</td>\n      <td>Iris-versicolor</td>\n    </tr>\n    <tr>\n      <th>90</th>\n      <td>5.5</td>\n      <td>2.6</td>\n      <td>4.4</td>\n      <td>1.2</td>\n      <td>Iris-versicolor</td>\n    </tr>\n  </tbody>\n</table>\n<p>150 rows × 5 columns</p>\n</div>",
      "text/plain": "      SL   SW   PL   PW                C\n125  7.2  3.2  6.0  1.8   Iris-virginica\n40   5.0  3.5  1.3  0.3      Iris-setosa\n60   5.0  2.0  3.5  1.0  Iris-versicolor\n137  6.4  3.1  5.5  1.8   Iris-virginica\n46   5.1  3.8  1.6  0.2      Iris-setosa\n..   ...  ...  ...  ...              ...\n84   5.4  3.0  4.5  1.5  Iris-versicolor\n86   6.7  3.1  4.7  1.5  Iris-versicolor\n96   5.7  2.9  4.2  1.3  Iris-versicolor\n80   5.5  2.4  3.8  1.1  Iris-versicolor\n90   5.5  2.6  4.4  1.2  Iris-versicolor\n\n[150 rows x 5 columns]"
     },
     "execution_count": 2,
     "metadata": {},
     "output_type": "execute_result"
    }
   ],
   "source": [
    "import pandas as pd\n",
    "\n",
    "data = pd.read_csv(\"datasets/iris.data\", header=None, names=[\"SL\", \"SW\", \"PL\", \"PW\", \"C\"])\n",
    "\n",
    "data = data.sample(len(data)) # Regresa las muestras de forma aleatoria\n",
    "\n",
    "data"
   ]
  },
  {
   "cell_type": "code",
   "execution_count": 3,
   "metadata": {},
   "outputs": [
    {
     "data": {
      "text/html": "<div>\n<style scoped>\n    .dataframe tbody tr th:only-of-type {\n        vertical-align: middle;\n    }\n\n    .dataframe tbody tr th {\n        vertical-align: top;\n    }\n\n    .dataframe thead th {\n        text-align: right;\n    }\n</style>\n<table border=\"1\" class=\"dataframe\">\n  <thead>\n    <tr style=\"text-align: right;\">\n      <th></th>\n      <th>SL</th>\n      <th>SW</th>\n      <th>PL</th>\n      <th>PW</th>\n      <th>C</th>\n      <th>C1</th>\n      <th>C2</th>\n      <th>C3</th>\n    </tr>\n  </thead>\n  <tbody>\n    <tr>\n      <th>125</th>\n      <td>7.2</td>\n      <td>3.2</td>\n      <td>6.0</td>\n      <td>1.8</td>\n      <td>Iris-virginica</td>\n      <td>0</td>\n      <td>0</td>\n      <td>1</td>\n    </tr>\n    <tr>\n      <th>40</th>\n      <td>5.0</td>\n      <td>3.5</td>\n      <td>1.3</td>\n      <td>0.3</td>\n      <td>Iris-setosa</td>\n      <td>1</td>\n      <td>0</td>\n      <td>0</td>\n    </tr>\n    <tr>\n      <th>60</th>\n      <td>5.0</td>\n      <td>2.0</td>\n      <td>3.5</td>\n      <td>1.0</td>\n      <td>Iris-versicolor</td>\n      <td>0</td>\n      <td>1</td>\n      <td>0</td>\n    </tr>\n    <tr>\n      <th>137</th>\n      <td>6.4</td>\n      <td>3.1</td>\n      <td>5.5</td>\n      <td>1.8</td>\n      <td>Iris-virginica</td>\n      <td>0</td>\n      <td>0</td>\n      <td>1</td>\n    </tr>\n    <tr>\n      <th>46</th>\n      <td>5.1</td>\n      <td>3.8</td>\n      <td>1.6</td>\n      <td>0.2</td>\n      <td>Iris-setosa</td>\n      <td>1</td>\n      <td>0</td>\n      <td>0</td>\n    </tr>\n    <tr>\n      <th>...</th>\n      <td>...</td>\n      <td>...</td>\n      <td>...</td>\n      <td>...</td>\n      <td>...</td>\n      <td>...</td>\n      <td>...</td>\n      <td>...</td>\n    </tr>\n    <tr>\n      <th>84</th>\n      <td>5.4</td>\n      <td>3.0</td>\n      <td>4.5</td>\n      <td>1.5</td>\n      <td>Iris-versicolor</td>\n      <td>0</td>\n      <td>1</td>\n      <td>0</td>\n    </tr>\n    <tr>\n      <th>86</th>\n      <td>6.7</td>\n      <td>3.1</td>\n      <td>4.7</td>\n      <td>1.5</td>\n      <td>Iris-versicolor</td>\n      <td>0</td>\n      <td>1</td>\n      <td>0</td>\n    </tr>\n    <tr>\n      <th>96</th>\n      <td>5.7</td>\n      <td>2.9</td>\n      <td>4.2</td>\n      <td>1.3</td>\n      <td>Iris-versicolor</td>\n      <td>0</td>\n      <td>1</td>\n      <td>0</td>\n    </tr>\n    <tr>\n      <th>80</th>\n      <td>5.5</td>\n      <td>2.4</td>\n      <td>3.8</td>\n      <td>1.1</td>\n      <td>Iris-versicolor</td>\n      <td>0</td>\n      <td>1</td>\n      <td>0</td>\n    </tr>\n    <tr>\n      <th>90</th>\n      <td>5.5</td>\n      <td>2.6</td>\n      <td>4.4</td>\n      <td>1.2</td>\n      <td>Iris-versicolor</td>\n      <td>0</td>\n      <td>1</td>\n      <td>0</td>\n    </tr>\n  </tbody>\n</table>\n<p>150 rows × 8 columns</p>\n</div>",
      "text/plain": "      SL   SW   PL   PW                C  C1  C2  C3\n125  7.2  3.2  6.0  1.8   Iris-virginica   0   0   1\n40   5.0  3.5  1.3  0.3      Iris-setosa   1   0   0\n60   5.0  2.0  3.5  1.0  Iris-versicolor   0   1   0\n137  6.4  3.1  5.5  1.8   Iris-virginica   0   0   1\n46   5.1  3.8  1.6  0.2      Iris-setosa   1   0   0\n..   ...  ...  ...  ...              ...  ..  ..  ..\n84   5.4  3.0  4.5  1.5  Iris-versicolor   0   1   0\n86   6.7  3.1  4.7  1.5  Iris-versicolor   0   1   0\n96   5.7  2.9  4.2  1.3  Iris-versicolor   0   1   0\n80   5.5  2.4  3.8  1.1  Iris-versicolor   0   1   0\n90   5.5  2.6  4.4  1.2  Iris-versicolor   0   1   0\n\n[150 rows x 8 columns]"
     },
     "execution_count": 3,
     "metadata": {},
     "output_type": "execute_result"
    }
   ],
   "source": [
    "data[\"C1\"] = data[\"C\"].map(lambda c: 1 if c == \"Iris-setosa\" else 0)\n",
    "data[\"C2\"] = data[\"C\"].map(lambda c: 1 if c == \"Iris-versicolor\" else 0)\n",
    "data[\"C3\"] = data[\"C\"].map(lambda c: 1 if c == \"Iris-virginica\" else 0)\n",
    "\n",
    "data"
   ]
  },
  {
   "cell_type": "code",
   "execution_count": 5,
   "metadata": {},
   "outputs": [],
   "source": [
    "import numpy as np\n",
    "\n",
    "x1 = np.array(data[\"SL\"])\n",
    "x2 = np.array(data[\"SW\"])\n",
    "x3 = np.array(data[\"PL\"])\n",
    "x4 = np.array(data[\"PW\"])\n",
    "\n",
    "y1 = np.array(data[\"C1\"])\n",
    "y2 = np.array(data[\"C2\"])\n",
    "y3 = np.array(data[\"C3\"])\n",
    "\n",
    "X = np.array([\n",
    "    x1,\n",
    "    x2,\n",
    "    x3,\n",
    "    x4\n",
    "]).T\n",
    "\n",
    "Y = np.array([\n",
    "    y1,\n",
    "    y2,\n",
    "    y3\n",
    "]).T"
   ]
  },
  {
   "cell_type": "code",
   "execution_count": 5,
   "metadata": {},
   "outputs": [
    {
     "data": {
      "text/plain": [
       "array([[5.1, 3.8, 1.9, 0.4],\n",
       "       [5.5, 4.2, 1.4, 0.2],\n",
       "       [4.8, 3.1, 1.6, 0.2],\n",
       "       [6.3, 2.5, 5. , 1.9],\n",
       "       [4.6, 3.4, 1.4, 0.3],\n",
       "       [6.5, 3. , 5.5, 1.8],\n",
       "       [6.7, 3.1, 4.7, 1.5],\n",
       "       [7.7, 2.6, 6.9, 2.3],\n",
       "       [5.4, 3.4, 1.5, 0.4],\n",
       "       [7.7, 3. , 6.1, 2.3],\n",
       "       [6. , 3. , 4.8, 1.8],\n",
       "       [6.2, 2.8, 4.8, 1.8],\n",
       "       [5.8, 2.8, 5.1, 2.4],\n",
       "       [6.1, 3. , 4.6, 1.4],\n",
       "       [5.1, 3.5, 1.4, 0.3],\n",
       "       [6.3, 2.5, 4.9, 1.5],\n",
       "       [5.7, 2.6, 3.5, 1. ],\n",
       "       [5. , 3.5, 1.3, 0.3],\n",
       "       [5.6, 3. , 4.5, 1.5],\n",
       "       [4.6, 3.2, 1.4, 0.2],\n",
       "       [5.7, 2.5, 5. , 2. ],\n",
       "       [4.4, 2.9, 1.4, 0.2],\n",
       "       [6.9, 3.1, 5.4, 2.1],\n",
       "       [4.4, 3. , 1.3, 0.2],\n",
       "       [6.1, 2.9, 4.7, 1.4],\n",
       "       [6.1, 2.6, 5.6, 1.4],\n",
       "       [6. , 2.2, 4. , 1. ],\n",
       "       [6.4, 3.2, 4.5, 1.5],\n",
       "       [5.5, 2.4, 3.7, 1. ],\n",
       "       [4.9, 3.1, 1.5, 0.1],\n",
       "       [4.3, 3. , 1.1, 0.1],\n",
       "       [6.3, 2.7, 4.9, 1.8],\n",
       "       [5.7, 2.8, 4.1, 1.3],\n",
       "       [4.6, 3.6, 1. , 0.2],\n",
       "       [5.6, 2.9, 3.6, 1.3],\n",
       "       [6. , 2.2, 5. , 1.5],\n",
       "       [6.8, 3. , 5.5, 2.1],\n",
       "       [5. , 3.5, 1.6, 0.6],\n",
       "       [6.7, 3.1, 4.4, 1.4],\n",
       "       [6.5, 2.8, 4.6, 1.5],\n",
       "       [5.6, 3. , 4.1, 1.3],\n",
       "       [6.2, 2.9, 4.3, 1.3],\n",
       "       [7.4, 2.8, 6.1, 1.9],\n",
       "       [6.1, 3. , 4.9, 1.8],\n",
       "       [4.8, 3. , 1.4, 0.3],\n",
       "       [6.6, 2.9, 4.6, 1.3],\n",
       "       [4.9, 3.1, 1.5, 0.1],\n",
       "       [7.3, 2.9, 6.3, 1.8],\n",
       "       [4.8, 3. , 1.4, 0.1],\n",
       "       [5.4, 3.4, 1.7, 0.2],\n",
       "       [6.3, 3.3, 6. , 2.5],\n",
       "       [6.9, 3.1, 4.9, 1.5],\n",
       "       [5.6, 2.8, 4.9, 2. ],\n",
       "       [4.9, 3. , 1.4, 0.2],\n",
       "       [6. , 2.9, 4.5, 1.5],\n",
       "       [6.8, 3.2, 5.9, 2.3],\n",
       "       [6.6, 3. , 4.4, 1.4],\n",
       "       [7.2, 3. , 5.8, 1.6],\n",
       "       [5. , 3. , 1.6, 0.2],\n",
       "       [6.9, 3.1, 5.1, 2.3],\n",
       "       [6.3, 2.9, 5.6, 1.8],\n",
       "       [5.9, 3. , 4.2, 1.5],\n",
       "       [6.1, 2.8, 4. , 1.3],\n",
       "       [6.4, 2.8, 5.6, 2.1],\n",
       "       [5. , 3.6, 1.4, 0.2],\n",
       "       [5.4, 3.9, 1.3, 0.4],\n",
       "       [6.8, 2.8, 4.8, 1.4],\n",
       "       [5. , 3.4, 1.5, 0.2],\n",
       "       [5.2, 4.1, 1.5, 0.1],\n",
       "       [5.6, 2.7, 4.2, 1.3],\n",
       "       [6.7, 2.5, 5.8, 1.8],\n",
       "       [6.9, 3.2, 5.7, 2.3],\n",
       "       [5.8, 2.7, 5.1, 1.9],\n",
       "       [6.3, 3.4, 5.6, 2.4],\n",
       "       [5. , 3.2, 1.2, 0.2],\n",
       "       [6.5, 3.2, 5.1, 2. ],\n",
       "       [5.1, 2.5, 3. , 1.1],\n",
       "       [7.9, 3.8, 6.4, 2. ],\n",
       "       [5.8, 4. , 1.2, 0.2],\n",
       "       [5.3, 3.7, 1.5, 0.2],\n",
       "       [5.2, 3.4, 1.4, 0.2],\n",
       "       [6.4, 3.2, 5.3, 2.3],\n",
       "       [6.5, 3. , 5.2, 2. ],\n",
       "       [5.4, 3.9, 1.7, 0.4],\n",
       "       [5.4, 3. , 4.5, 1.5],\n",
       "       [5.5, 2.3, 4. , 1.3],\n",
       "       [6. , 2.7, 5.1, 1.6],\n",
       "       [5. , 3.4, 1.6, 0.4],\n",
       "       [7.6, 3. , 6.6, 2.1],\n",
       "       [6.7, 3. , 5. , 1.7],\n",
       "       [5.5, 2.6, 4.4, 1.2],\n",
       "       [4.5, 2.3, 1.3, 0.3],\n",
       "       [4.6, 3.1, 1.5, 0.2],\n",
       "       [5.8, 2.7, 5.1, 1.9],\n",
       "       [5.8, 2.7, 4.1, 1. ],\n",
       "       [5.1, 3.5, 1.4, 0.2],\n",
       "       [6.4, 2.7, 5.3, 1.9],\n",
       "       [5.7, 2.9, 4.2, 1.3],\n",
       "       [5. , 3.3, 1.4, 0.2],\n",
       "       [5.8, 2.6, 4. , 1.2],\n",
       "       [5.9, 3.2, 4.8, 1.8],\n",
       "       [4.9, 2.5, 4.5, 1.7],\n",
       "       [6. , 3.4, 4.5, 1.6],\n",
       "       [4.9, 3.1, 1.5, 0.1],\n",
       "       [5.2, 2.7, 3.9, 1.4],\n",
       "       [7.1, 3. , 5.9, 2.1],\n",
       "       [5.1, 3.4, 1.5, 0.2],\n",
       "       [5.5, 2.4, 3.8, 1.1],\n",
       "       [4.4, 3.2, 1.3, 0.2],\n",
       "       [5.1, 3.7, 1.5, 0.4],\n",
       "       [4.9, 2.4, 3.3, 1. ],\n",
       "       [5.7, 2.8, 4.5, 1.3],\n",
       "       [6.4, 3.1, 5.5, 1.8],\n",
       "       [4.8, 3.4, 1.6, 0.2],\n",
       "       [5.4, 3.7, 1.5, 0.2],\n",
       "       [6.3, 2.3, 4.4, 1.3],\n",
       "       [6.4, 2.8, 5.6, 2.2],\n",
       "       [5.7, 4.4, 1.5, 0.4],\n",
       "       [6.3, 3.3, 4.7, 1.6],\n",
       "       [5.8, 2.7, 3.9, 1.2],\n",
       "       [7.2, 3.6, 6.1, 2.5],\n",
       "       [6.2, 3.4, 5.4, 2.3],\n",
       "       [7.7, 2.8, 6.7, 2. ],\n",
       "       [6.2, 2.2, 4.5, 1.5],\n",
       "       [5.5, 2.5, 4. , 1.3],\n",
       "       [6.7, 3.1, 5.6, 2.4],\n",
       "       [5.1, 3.8, 1.5, 0.3],\n",
       "       [6.7, 3. , 5.2, 2.3],\n",
       "       [7. , 3.2, 4.7, 1.4],\n",
       "       [5.1, 3.8, 1.6, 0.2],\n",
       "       [5. , 2. , 3.5, 1. ],\n",
       "       [6.7, 3.3, 5.7, 2.1],\n",
       "       [5.5, 3.5, 1.3, 0.2],\n",
       "       [4.8, 3.4, 1.9, 0.2],\n",
       "       [7.7, 3.8, 6.7, 2.2],\n",
       "       [6.4, 2.9, 4.3, 1.3],\n",
       "       [5. , 2.3, 3.3, 1. ],\n",
       "       [5.6, 2.5, 3.9, 1.1],\n",
       "       [6.5, 3. , 5.8, 2.2],\n",
       "       [7.2, 3.2, 6. , 1.8],\n",
       "       [4.7, 3.2, 1.3, 0.2],\n",
       "       [5.7, 3. , 4.2, 1.2],\n",
       "       [6.7, 3.3, 5.7, 2.5],\n",
       "       [5.9, 3. , 5.1, 1.8],\n",
       "       [5.7, 3.8, 1.7, 0.3],\n",
       "       [5.1, 3.3, 1.7, 0.5],\n",
       "       [5.2, 3.5, 1.5, 0.2],\n",
       "       [4.7, 3.2, 1.6, 0.2],\n",
       "       [6.1, 2.8, 4.7, 1.2],\n",
       "       [6.3, 2.8, 5.1, 1.5]])"
      ]
     },
     "execution_count": 5,
     "metadata": {},
     "output_type": "execute_result"
    }
   ],
   "source": [
    "X # Contiene las 150 muestras con 4 características cada muestra (4 entradas)"
   ]
  },
  {
   "cell_type": "code",
   "execution_count": 6,
   "metadata": {},
   "outputs": [
    {
     "data": {
      "text/plain": [
       "array([[1, 0, 0],\n",
       "       [1, 0, 0],\n",
       "       [1, 0, 0],\n",
       "       [0, 0, 1],\n",
       "       [1, 0, 0],\n",
       "       [0, 0, 1],\n",
       "       [0, 1, 0],\n",
       "       [0, 0, 1],\n",
       "       [1, 0, 0],\n",
       "       [0, 0, 1],\n",
       "       [0, 0, 1],\n",
       "       [0, 0, 1],\n",
       "       [0, 0, 1],\n",
       "       [0, 1, 0],\n",
       "       [1, 0, 0],\n",
       "       [0, 1, 0],\n",
       "       [0, 1, 0],\n",
       "       [1, 0, 0],\n",
       "       [0, 1, 0],\n",
       "       [1, 0, 0],\n",
       "       [0, 0, 1],\n",
       "       [1, 0, 0],\n",
       "       [0, 0, 1],\n",
       "       [1, 0, 0],\n",
       "       [0, 1, 0],\n",
       "       [0, 0, 1],\n",
       "       [0, 1, 0],\n",
       "       [0, 1, 0],\n",
       "       [0, 1, 0],\n",
       "       [1, 0, 0],\n",
       "       [1, 0, 0],\n",
       "       [0, 0, 1],\n",
       "       [0, 1, 0],\n",
       "       [1, 0, 0],\n",
       "       [0, 1, 0],\n",
       "       [0, 0, 1],\n",
       "       [0, 0, 1],\n",
       "       [1, 0, 0],\n",
       "       [0, 1, 0],\n",
       "       [0, 1, 0],\n",
       "       [0, 1, 0],\n",
       "       [0, 1, 0],\n",
       "       [0, 0, 1],\n",
       "       [0, 0, 1],\n",
       "       [1, 0, 0],\n",
       "       [0, 1, 0],\n",
       "       [1, 0, 0],\n",
       "       [0, 0, 1],\n",
       "       [1, 0, 0],\n",
       "       [1, 0, 0],\n",
       "       [0, 0, 1],\n",
       "       [0, 1, 0],\n",
       "       [0, 0, 1],\n",
       "       [1, 0, 0],\n",
       "       [0, 1, 0],\n",
       "       [0, 0, 1],\n",
       "       [0, 1, 0],\n",
       "       [0, 0, 1],\n",
       "       [1, 0, 0],\n",
       "       [0, 0, 1],\n",
       "       [0, 0, 1],\n",
       "       [0, 1, 0],\n",
       "       [0, 1, 0],\n",
       "       [0, 0, 1],\n",
       "       [1, 0, 0],\n",
       "       [1, 0, 0],\n",
       "       [0, 1, 0],\n",
       "       [1, 0, 0],\n",
       "       [1, 0, 0],\n",
       "       [0, 1, 0],\n",
       "       [0, 0, 1],\n",
       "       [0, 0, 1],\n",
       "       [0, 0, 1],\n",
       "       [0, 0, 1],\n",
       "       [1, 0, 0],\n",
       "       [0, 0, 1],\n",
       "       [0, 1, 0],\n",
       "       [0, 0, 1],\n",
       "       [1, 0, 0],\n",
       "       [1, 0, 0],\n",
       "       [1, 0, 0],\n",
       "       [0, 0, 1],\n",
       "       [0, 0, 1],\n",
       "       [1, 0, 0],\n",
       "       [0, 1, 0],\n",
       "       [0, 1, 0],\n",
       "       [0, 1, 0],\n",
       "       [1, 0, 0],\n",
       "       [0, 0, 1],\n",
       "       [0, 1, 0],\n",
       "       [0, 1, 0],\n",
       "       [1, 0, 0],\n",
       "       [1, 0, 0],\n",
       "       [0, 0, 1],\n",
       "       [0, 1, 0],\n",
       "       [1, 0, 0],\n",
       "       [0, 0, 1],\n",
       "       [0, 1, 0],\n",
       "       [1, 0, 0],\n",
       "       [0, 1, 0],\n",
       "       [0, 1, 0],\n",
       "       [0, 0, 1],\n",
       "       [0, 1, 0],\n",
       "       [1, 0, 0],\n",
       "       [0, 1, 0],\n",
       "       [0, 0, 1],\n",
       "       [1, 0, 0],\n",
       "       [0, 1, 0],\n",
       "       [1, 0, 0],\n",
       "       [1, 0, 0],\n",
       "       [0, 1, 0],\n",
       "       [0, 1, 0],\n",
       "       [0, 0, 1],\n",
       "       [1, 0, 0],\n",
       "       [1, 0, 0],\n",
       "       [0, 1, 0],\n",
       "       [0, 0, 1],\n",
       "       [1, 0, 0],\n",
       "       [0, 1, 0],\n",
       "       [0, 1, 0],\n",
       "       [0, 0, 1],\n",
       "       [0, 0, 1],\n",
       "       [0, 0, 1],\n",
       "       [0, 1, 0],\n",
       "       [0, 1, 0],\n",
       "       [0, 0, 1],\n",
       "       [1, 0, 0],\n",
       "       [0, 0, 1],\n",
       "       [0, 1, 0],\n",
       "       [1, 0, 0],\n",
       "       [0, 1, 0],\n",
       "       [0, 0, 1],\n",
       "       [1, 0, 0],\n",
       "       [1, 0, 0],\n",
       "       [0, 0, 1],\n",
       "       [0, 1, 0],\n",
       "       [0, 1, 0],\n",
       "       [0, 1, 0],\n",
       "       [0, 0, 1],\n",
       "       [0, 0, 1],\n",
       "       [1, 0, 0],\n",
       "       [0, 1, 0],\n",
       "       [0, 0, 1],\n",
       "       [0, 0, 1],\n",
       "       [1, 0, 0],\n",
       "       [1, 0, 0],\n",
       "       [1, 0, 0],\n",
       "       [1, 0, 0],\n",
       "       [0, 1, 0],\n",
       "       [0, 0, 1]], dtype=int64)"
      ]
     },
     "execution_count": 6,
     "metadata": {},
     "output_type": "execute_result"
    }
   ],
   "source": [
    "Y # Contiene las 150 etiquetas para cada muestra, con 3 clases codificadas (3 salidas)"
   ]
  },
  {
   "cell_type": "markdown",
   "metadata": {},
   "source": [
    "## Ejercicios - Árboles de Decisión\n",
    "\n",
    "1. Parte el conjunto de muestras `X` en `X_train` con 120 muestras y `X_test` con las muestras restantes.\n",
    "2. Parte el conjunto de clases codificadas `Y` en `Y_train` con 120 clases y `Y_test` con las clases restantes.\n",
    "3. Crea un clasificador por árbol de decisión con `sklearn.tree.DesicionTreeClassifier` usando `X_train` y `Y_train`. Pista: usa `clf.fit(X_train, Y_train)`.\n",
    "4. Muestra el score para `X_test` y `Y_test`. Pista: usa `clf.score(X_test, Y_test)`.\n",
    "5. Pinta el árbol de decisión usando `sklearn.tree.plot_tree(clf)`.\n",
    "6. Predice cuál es la clase de las siguientes muestras:\n",
    "\n",
    "```py\n",
    "[\n",
    "    [6.7, 3. , 5. , 1.7],\n",
    "    [5.5, 2.6, 4.4, 1.2],\n",
    "    [4.5, 2.3, 1.3, 0.3],\n",
    "    [4.6, 3.1, 1.5, 0.2],\n",
    "]\n",
    "```"
   ]
  },
  {
   "cell_type": "code",
   "execution_count": 21,
   "metadata": {},
   "outputs": [
    {
     "data": {
      "text/plain": "((120, 4), (30, 4), (30, 3), (120, 3))"
     },
     "execution_count": 21,
     "metadata": {},
     "output_type": "execute_result"
    }
   ],
   "source": [
    "X_test = X[120:] # 120 - ultima\n",
    "X_train = X[:120] # 0 - 120\n",
    "\n",
    "y_test = Y[120:] # 120 - ultima\n",
    "y_train = Y[:120] # 0 - 120\n",
    "\n",
    "X_train.shape, X_test.shape, y_test.shape, y_train.shape"
   ]
  },
  {
   "cell_type": "code",
   "execution_count": 23,
   "metadata": {},
   "outputs": [
    {
     "data": {
      "text/plain": "DecisionTreeClassifier()"
     },
     "execution_count": 23,
     "metadata": {},
     "output_type": "execute_result"
    }
   ],
   "source": [
    "from sklearn.tree import DecisionTreeClassifier, plot_tree\n",
    "\n",
    "clf = DecisionTreeClassifier()\n",
    "\n",
    "clf.fit(X_train, y_train)"
   ]
  },
  {
   "cell_type": "code",
   "execution_count": 24,
   "metadata": {},
   "outputs": [
    {
     "data": {
      "text/plain": "0.9333333333333333"
     },
     "execution_count": 24,
     "metadata": {},
     "output_type": "execute_result"
    }
   ],
   "source": [
    "clf.score(X_test, y_test)"
   ]
  },
  {
   "cell_type": "code",
   "execution_count": 25,
   "metadata": {},
   "outputs": [
    {
     "data": {
      "text/plain": "[Text(167.4, 199.32, 'X[2] <= 2.45\\ngini = 0.443\\nsamples = 120\\nvalue = [[78, 42]\\n[84, 36]\\n[78, 42]]'),\n Text(125.55000000000001, 163.07999999999998, 'gini = 0.0\\nsamples = 42\\nvalue = [[0, 42]\\n[42, 0]\\n[42, 0]]'),\n Text(209.25, 163.07999999999998, 'X[3] <= 1.75\\ngini = 0.331\\nsamples = 78\\nvalue = [[78, 0]\\n[42, 36]\\n[36, 42]]'),\n Text(167.4, 126.83999999999999, 'X[2] <= 5.05\\ngini = 0.12\\nsamples = 40\\nvalue = [[40, 0]\\n[4, 36]\\n[36, 4]]'),\n Text(83.7, 90.6, 'X[3] <= 1.65\\ngini = 0.036\\nsamples = 36\\nvalue = [[36, 0]\\n[1, 35]\\n[35, 1]]'),\n Text(41.85, 54.359999999999985, 'gini = 0.0\\nsamples = 34\\nvalue = [[34, 0]\\n[0, 34]\\n[34, 0]]'),\n Text(125.55000000000001, 54.359999999999985, 'X[1] <= 2.75\\ngini = 0.333\\nsamples = 2\\nvalue = [[2, 0]\\n[1, 1]\\n[1, 1]]'),\n Text(83.7, 18.119999999999976, 'gini = 0.0\\nsamples = 1\\nvalue = [[1, 0]\\n[1, 0]\\n[0, 1]]'),\n Text(167.4, 18.119999999999976, 'gini = 0.0\\nsamples = 1\\nvalue = [[1, 0]\\n[0, 1]\\n[1, 0]]'),\n Text(251.10000000000002, 90.6, 'X[0] <= 6.05\\ngini = 0.25\\nsamples = 4\\nvalue = [[4, 0]\\n[3, 1]\\n[1, 3]]'),\n Text(209.25, 54.359999999999985, 'gini = 0.0\\nsamples = 1\\nvalue = [[1, 0]\\n[0, 1]\\n[1, 0]]'),\n Text(292.95, 54.359999999999985, 'gini = 0.0\\nsamples = 3\\nvalue = [[3, 0]\\n[3, 0]\\n[0, 3]]'),\n Text(251.10000000000002, 126.83999999999999, 'gini = 0.0\\nsamples = 38\\nvalue = [[38, 0]\\n[38, 0]\\n[0, 38]]')]"
     },
     "execution_count": 25,
     "metadata": {},
     "output_type": "execute_result"
    },
    {
     "data": {
      "image/png": "[encoded data removed]",
      "text/plain": "<Figure size 432x288 with 1 Axes>"
     },
     "metadata": {
      "needs_background": "light"
     },
     "output_type": "display_data"
    }
   ],
   "source": [
    "plot_tree(clf)"
   ]
  },
  {
   "cell_type": "code",
   "execution_count": 29,
   "metadata": {},
   "outputs": [
    {
     "data": {
      "text/plain": "array([[0, 1, 0],\n       [0, 1, 0],\n       [1, 0, 0],\n       [1, 0, 0]])"
     },
     "execution_count": 29,
     "metadata": {},
     "output_type": "execute_result"
    }
   ],
   "source": [
    "x_test = np.array([\n",
    "    [6.7, 3. , 5. , 1.7],\n",
    "    [5.5, 2.6, 4.4, 1.2],\n",
    "    [4.5, 2.3, 1.3, 0.3],\n",
    "    [4.6, 3.1, 1.5, 0.2],\n",
    "])\n",
    "\n",
    "y_predict = clf.predict(x_test)\n",
    "\n",
    "y_predict"
   ]
  },
  {
   "cell_type": "code",
   "execution_count": null,
   "metadata": {},
   "outputs": [],
   "source": [
    "setosa, versicolor, virginica"
   ]
  },
  {
   "cell_type": "code",
   "execution_count": 61,
   "metadata": {},
   "outputs": [
    {
     "data": {
      "text/html": "<div>\n<style scoped>\n    .dataframe tbody tr th:only-of-type {\n        vertical-align: middle;\n    }\n\n    .dataframe tbody tr th {\n        vertical-align: top;\n    }\n\n    .dataframe thead th {\n        text-align: right;\n    }\n</style>\n<table border=\"1\" class=\"dataframe\">\n  <thead>\n    <tr style=\"text-align: right;\">\n      <th></th>\n      <th>SW</th>\n      <th>SL</th>\n      <th>PW</th>\n      <th>PL</th>\n      <th>C</th>\n    </tr>\n  </thead>\n  <tbody>\n    <tr>\n      <th>0</th>\n      <td>6.7</td>\n      <td>3.0</td>\n      <td>5.0</td>\n      <td>1.7</td>\n      <td>Iris-versicolor</td>\n    </tr>\n    <tr>\n      <th>1</th>\n      <td>5.5</td>\n      <td>2.6</td>\n      <td>4.4</td>\n      <td>1.2</td>\n      <td>Iris-versicolor</td>\n    </tr>\n    <tr>\n      <th>2</th>\n      <td>4.5</td>\n      <td>2.3</td>\n      <td>1.3</td>\n      <td>0.3</td>\n      <td>Iris-setosa</td>\n    </tr>\n    <tr>\n      <th>3</th>\n      <td>4.6</td>\n      <td>3.1</td>\n      <td>1.5</td>\n      <td>0.2</td>\n      <td>Iris-setosa</td>\n    </tr>\n  </tbody>\n</table>\n</div>",
      "text/plain": "    SW   SL   PW   PL                C\n0  6.7  3.0  5.0  1.7  Iris-versicolor\n1  5.5  2.6  4.4  1.2  Iris-versicolor\n2  4.5  2.3  1.3  0.3      Iris-setosa\n3  4.6  3.1  1.5  0.2      Iris-setosa"
     },
     "execution_count": 61,
     "metadata": {},
     "output_type": "execute_result"
    }
   ],
   "source": [
    "C = []\n",
    "for y in y_predict:\n",
    "    if y[0] == 1:\n",
    "        C.append(\"Iris-setosa\")\n",
    "    elif y[1] == 1:\n",
    "        C.append(\"Iris-versicolor\")\n",
    "    elif y[2] == 1:\n",
    "        C.append(\"Iris-virginica\")\n",
    "        \n",
    "result = pd.DataFrame({\"SW\": x_test[:, 0], \"SL\": x_test[:, 1], \"PW\": x_test[:, 2], \n",
    "                        \"PL\": x_test[:, 3], \"C\": C})\n",
    "result"
   ]
  }
 ],
 "metadata": {
  "kernelspec": {
   "display_name": "Python 3.9.2  ('env': venv)",
   "name": "python392jvsc74a57bd05798cad760e1eb0fefa297520fbed5c933811995ee35a4451a2aef75128efee3"
  },
  "language_info": {
   "codemirror_mode": {
    "name": "ipython",
    "version": 3
   },
   "file_extension": ".py",
   "mimetype": "text/x-python",
   "name": "python",
   "nbconvert_exporter": "python",
   "pygments_lexer": "ipython3",
   "version": "3.9.2"
  },
  "metadata": {
   "interpreter": {
    "hash": "5798cad760e1eb0fefa297520fbed5c933811995ee35a4451a2aef75128efee3"
   }
  },
  "orig_nbformat": 2
 },
 "nbformat": 4,
 "nbformat_minor": 2
}