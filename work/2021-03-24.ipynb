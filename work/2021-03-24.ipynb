{
 "cells": [
  {
   "cell_type": "markdown",
   "metadata": {},
   "source": [
    "# Trabajo del día miércoles 24 de marzo de 2021 | Doncan Alexis Sánchez Rico\n",
    "\n",
    "## Introducción\n",
    "\n",
    "En el siguiente documento de trabajo, se presentan una serie de ejercicios relacionados al curso de Machine Learning del CIC-IPN. El 50% de estos ejercicios son obligatorios para la evaluación final. Deberá elegir al menos uno de cada dos ejercicios para resolverlos y enviarlos al correo dragonnomada123 con el sujeto *Machine Learning IPN - Trabajo 8 marzo 2021*. En el contenido del correo deberá especificar su nombre completo y adjuntar el archivo *.ipynb* que contenga los ejercicios resueltos, en la primera celda de la _notebook_ deberá repetir en el título *Machine Learning IPN - Trabajo 8 marzo 2021* y su nombre completo. No hay fecha de entrega obligatoria, pero si no recibe correo de confirmación de entrega, deberá ser responsable de insistir en la entrega y respuesta."
   ]
  },
  {
   "cell_type": "markdown",
   "metadata": {},
   "source": [
    "En este trabajo usaremos a `datasets/iris.data`, el cuál contiene 5 columnas con información de las medidas de las flores Iris y su clasificación de muestras. En las siguientes celdas se muestra la extracción y estructuración de las 150 muestras en los conjuntos `X` y `Y`.\n",
    "\n",
    "Revise los códigos y resuelva los puntos marcados al final."
   ]
  },
  {
   "cell_type": "markdown",
   "metadata": {},
   "source": [
    "## Ejercicios - Redes neuronales\n",
    "\n",
    "1. Continua el estudio de clase para el reconocimiento de dígitos de `notebooks/12. Multilayer Neural Network Classifier.ipynb`.\n",
    "2. Dibuja en paint un dígito a mano y guardalo como una imagen PNG.\n",
    "3. Abre la imagen en Python con Pillow. Pista https://www.geeksforgeeks.org/python-pil-image-resize-method/\n",
    "4. Escala la imagen a 28x28 pixeles.\n",
    "5. Convierte la imagen a un array de numpy. Pista https://www.geeksforgeeks.org/how-to-convert-images-to-numpy-array/\n",
    "6. Usa `rgb2gray` de `skimage` para convertir la imagen de RGB a escala de grises. https://scikit-image.org/docs/stable/auto_examples/color_exposure/plot_rgb_to_gray.html#sphx-glr-auto-examples-color-exposure-plot-rgb-to-gray-py\n",
    "7. Refigura la imagen para que sea un vector de 768 entradas.\n",
    "8. Predice que dígito responde el clasificador y comenta si funcionó o se equivocó."
   ]
  },
  {
   "cell_type": "code",
   "execution_count": 15,
   "metadata": {},
   "outputs": [
    {
     "data": {
      "text/plain": "<matplotlib.image.AxesImage at 0x7f7efc133d90>"
     },
     "execution_count": 15,
     "metadata": {},
     "output_type": "execute_result"
    },
    {
     "data": {
      "image/png": "[encoded data removed]",
      "text/plain": "<Figure size 432x288 with 1 Axes>"
     },
     "metadata": {
      "needs_background": "light"
     },
     "output_type": "display_data"
    }
   ],
   "source": [
    "from PIL import Image\n",
    "# from numpy import asarray\n",
    "import numpy as np\n",
    "import matplotlib.pyplot as plt\n",
    "\n",
    "from skimage.color import rgb2gray, rgba2rgb\n",
    "\n",
    "img = Image.open(\"./datasets/el_1_r.png\")\n",
    "img = img.resize((28,28))\n",
    "array_img = np.asarray(img)\n",
    "gray_scale = rgb2gray(rgba2rgb(array_img))\n",
    "# gray_scale = array_img\n",
    "plt.imshow(gray_scale, cmap=\"gray\")\n"
   ]
  },
  {
   "cell_type": "markdown",
   "metadata": {},
   "source": [
    "Meidante pickle guardé el clasificador que realizamos en clase con la siguiente configuración y score de 0.9394.\n",
    "\n",
    "```py\n",
    "clf = MLPClassifier(hidden_layer_sizes=(20,60,20))\n",
    "```"
   ]
  },
  {
   "cell_type": "code",
   "execution_count": 16,
   "metadata": {},
   "outputs": [
    {
     "data": {
      "text/plain": "2"
     },
     "execution_count": 16,
     "metadata": {},
     "output_type": "execute_result"
    }
   ],
   "source": [
    "import pickle\n",
    "\n",
    "def decode(dig_enc):\n",
    "    maxv = 0\n",
    "    maxi = 0\n",
    "    for index, value in enumerate(dig_enc):\n",
    "        if value > maxv:\n",
    "            maxv = value\n",
    "            maxi = index\n",
    "    return maxi\n",
    "gray_scale = gray_scale.reshape((784,))\n",
    "with open('../notebooks/clf.pickle', 'rb') as f:\n",
    "    clf = pickle.load(f)\n",
    "\n",
    "predict_label = clf.predict([gray_scale])[0]\n",
    "\n",
    "decode(predict_label)"
   ]
  },
  {
   "cell_type": "markdown",
   "metadata": {},
   "source": [
    "Realicé varias pruebas pero el resultado siempre fue el mismo, intenté con el fondo blanco y el fondo negro, pero al parecer no predice de la manera correcta. Concluí que debido a que el conjunto de entrenamiento es muy diferente a la imagen que estamos probando ya que esta en escala de grises."
   ]
  }
 ],
 "metadata": {
  "kernelspec": {
   "display_name": "Python 3.9.2  ('env': venv)",
   "name": "python392jvsc74a57bd05798cad760e1eb0fefa297520fbed5c933811995ee35a4451a2aef75128efee3"
  },
  "language_info": {
   "codemirror_mode": {
    "name": "ipython",
    "version": 3
   },
   "file_extension": ".py",
   "mimetype": "text/x-python",
   "name": "python",
   "nbconvert_exporter": "python",
   "pygments_lexer": "ipython3",
   "version": "3.9.2"
  },
  "metadata": {
   "interpreter": {
    "hash": "5798cad760e1eb0fefa297520fbed5c933811995ee35a4451a2aef75128efee3"
   }
  },
  "orig_nbformat": 2
 },
 "nbformat": 4,
 "nbformat_minor": 2
}