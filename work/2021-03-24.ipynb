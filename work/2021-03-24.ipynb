{
 "metadata": {
  "language_info": {
   "codemirror_mode": {
    "name": "ipython",
    "version": 3
   },
   "file_extension": ".py",
   "mimetype": "text/x-python",
   "name": "python",
   "nbconvert_exporter": "python",
   "pygments_lexer": "ipython3",
   "version": "3.9.0-final"
  },
  "orig_nbformat": 2,
  "kernelspec": {
   "name": "python3",
   "display_name": "Python 3.9.0 64-bit",
   "metadata": {
    "interpreter": {
     "hash": "63fd5069d213b44bf678585dea6b12cceca9941eaf7f819626cde1f2670de90d"
    }
   }
  }
 },
 "nbformat": 4,
 "nbformat_minor": 2,
 "cells": [
  {
   "source": [
    "# Trabajo del día miércoles 24 de marzo de 2021\n",
    "\n",
    "Alan Badillo Salas dragonnomada123@gmail.com\n",
    "\n",
    "## Introducción\n",
    "\n",
    "En el siguiente documento de trabajo, se presentan una serie de ejercicios relacionados al curso de Machine Learning del CIC-IPN. El 50% de estos ejercicios son obligatorios para la evaluación final. Deberá elegir al menos uno de cada dos ejercicios para resolverlos y enviarlos al correo dragonnomada123 con el sujeto *Machine Learning IPN - Trabajo 8 marzo 2021*. En el contenido del correo deberá especificar su nombre completo y adjuntar el archivo *.ipynb* que contenga los ejercicios resueltos, en la primera celda de la _notebook_ deberá repetir en el título *Machine Learning IPN - Trabajo 8 marzo 2021* y su nombre completo. No hay fecha de entrega obligatoria, pero si no recibe correo de confirmación de entrega, deberá ser responsable de insistir en la entrega y respuesta."
   ],
   "cell_type": "markdown",
   "metadata": {}
  },
  {
   "source": [
    "En este trabajo usaremos a `datasets/iris.data`, el cuál contiene 5 columnas con información de las medidas de las flores Iris y su clasificación de muestras. En las siguientes celdas se muestra la extracción y estructuración de las 150 muestras en los conjuntos `X` y `Y`.\n",
    "\n",
    "Revise los códigos y resuelva los puntos marcados al final."
   ],
   "cell_type": "markdown",
   "metadata": {}
  },
  {
   "source": [
    "## Ejercicios - Redes neuronales\n",
    "\n",
    "1. Continua el estudio de clase para el reconocimiento de dígitos de `notebooks/12. Multilayer Neural Network Classifier.ipynb`.\n",
    "2. Dibuja en paint un dígito a mano y guardalo como una imagen PNG.\n",
    "3. Abre la imagen en Python con Pillow. Pista https://www.geeksforgeeks.org/python-pil-image-resize-method/\n",
    "4. Escala la imagen a 28x28 pixeles.\n",
    "5. Convierte la imagen a un array de numpy. Pista https://www.geeksforgeeks.org/how-to-convert-images-to-numpy-array/\n",
    "6. Usa `rgb2gray` de `skimage` para convertir la imagen de RGB a escala de grises. https://scikit-image.org/docs/stable/auto_examples/color_exposure/plot_rgb_to_gray.html#sphx-glr-auto-examples-color-exposure-plot-rgb-to-gray-py\n",
    "7. Refigura la imagen para que sea un vector de 768 entradas.\n",
    "8. Predice que dígito responde el clasificador y comenta si funcionó o se equivocó."
   ],
   "cell_type": "markdown",
   "metadata": {}
  }
 ]
}