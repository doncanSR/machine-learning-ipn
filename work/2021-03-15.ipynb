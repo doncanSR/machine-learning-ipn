{
 "metadata": {
  "language_info": {
   "codemirror_mode": {
    "name": "ipython",
    "version": 3
   },
   "file_extension": ".py",
   "mimetype": "text/x-python",
   "name": "python",
   "nbconvert_exporter": "python",
   "pygments_lexer": "ipython3",
   "version": 3
  },
  "orig_nbformat": 2
 },
 "nbformat": 4,
 "nbformat_minor": 2,
 "cells": [
  {
   "source": [
    "# Trabajo del día miércoles 15 de marzo de 2021\n",
    "\n",
    "Alan Badillo Salas dragonnomada123@gmail.com\n",
    "\n",
    "## Introducción\n",
    "\n",
    "En el siguiente documento de trabajo, se presentan una serie de ejercicios relacionados al curso de Machine Learning del CIC-IPN. El 50% de estos ejercicios son obligatorios para la evaluación final. Deberá elegir al menos uno de cada dos ejercicios para resolverlos y enviarlos al correo dragonnomada123 con el sujeto *Machine Learning IPN - Trabajo 8 marzo 2021*. En el contenido del correo deberá especificar su nombre completo y adjuntar el archivo *.ipynb* que contenga los ejercicios resueltos, en la primera celda de la _notebook_ deberá repetir en el título *Machine Learning IPN - Trabajo 8 marzo 2021* y su nombre completo. No hay fecha de entrega obligatoria, pero si no recibe correo de confirmación de entrega, deberá ser responsable de insistir en la entrega y respuesta."
   ],
   "cell_type": "markdown",
   "metadata": {}
  },
  {
   "source": [
    "En este trabajo estaremos utilizando el dataset llamado `work/dataset/admission_predict.csv`. Cada problema tendrá una cantidad de puntos asignados según su complejidad. Junta al menos la mitad de puntos para validar este trabajo.\n",
    "\n",
    "El trabajo consistirá en aplicar la regresión lineal a las múltiples columnas del dataset como `GRE Score`, `TOEFL Score`, `University Rating`, `SOP`, `LOR`, `CGPA`, `Research`, para determinar la columna `Chance of Admit`.\n",
    "\n",
    "Deberemos recuperar las series de datos de cada columna y construir la matriz `X` y el vector `Y`. Luego con un regresor lineal `LinearRegression`, obtendremos el ajuste R<sup>2</sup>, para ir descartando columnas que no mejoren la preducción, hasta determinar el conjunto del mínimo columnas, que nos den el valor de preducción para `Chance of Admit`."
   ],
   "cell_type": "markdown",
   "metadata": {}
  },
  {
   "source": [
    "## 1. Cargar los datos (1 punto)\n",
    "\n",
    "Abre el dataset `work/dataset/admission_predict.csv` con pandas y muestra las primeras 5 filas."
   ],
   "cell_type": "markdown",
   "metadata": {}
  },
  {
   "source": [
    "## 2. Seleccionar las columnas de trabajo (2 puntos)\n",
    "\n",
    "Selecciona las columnas del dataframe y construye la matriz X, o el dataframe X. Puedes renombrar cada columna como `x1`, `x2`, `x3`, ..., `xn`.\n",
    "\n",
    "> Pista: Crea un nuevo *dataframe* con las series de cada columna como un eje (columna) `xn`.\n",
    "\n"
   ],
   "cell_type": "markdown",
   "metadata": {}
  },
  {
   "cell_type": "code",
   "execution_count": null,
   "metadata": {},
   "outputs": [],
   "source": [
    "X = pd.DataFrame({\n",
    "    \"x1\": data[\"GRE Score\"],\n",
    "    \"x2\": data[\"TOEFL Score\"],\n",
    "    # ...\n",
    "    \"xn\": data[\"Research\"]\n",
    "})\n",
    "\n",
    "y = data[\"Chance of Admit\"]"
   ]
  },
  {
   "source": [
    "## 3. Visualiza cada eje respecto al valor de predicción (3 puntos)\n",
    "\n",
    "Investiga como crear 7 gráficas usando `subplots` de *Matplotlib*, o usa un `for` para graficar cada eje respecto a `Chance of Admit`.\n",
    "\n",
    "Por ejemplo, la gráfica tipo *scatter* de `GRE Score` vs `Chance of Admit`, la gráfica tipo *scatter* de `TOEFL Score` vs `Chance of Admit`, etc.\n",
    "\n",
    "> Pista: https://matplotlib.org/stable/gallery/axes_grid1/demo_axes_grid.html#sphx-glr-gallery-axes-grid1-demo-axes-grid-py"
   ],
   "cell_type": "markdown",
   "metadata": {}
  },
  {
   "source": [
    "## 4. Crea un regresor lineal (4 puntos)\n",
    "\n",
    "Construye un regresor de la clase `LinearRegression` de *sklearn*.\n",
    "\n",
    "Ajusta el regresor a `X`, `y`.\n",
    "\n",
    "Obtén el `score` (R<sup>2</sup>) sobre `X`, `y`."
   ],
   "cell_type": "markdown",
   "metadata": {}
  },
  {
   "source": [
    "## 5. Descarta ejes (2 puntos)\n",
    "\n",
    "Descarta los ejes de pendiente cercana a 0, y deja sólo a los más significativos."
   ],
   "cell_type": "markdown",
   "metadata": {}
  },
  {
   "source": [
    "## 6. Visualización en 2D (4 puntos)\n",
    "\n",
    "Crea una gráfica 2D con los dos ejes más representativos, dónde el color sea el eje correspondiente a `Chance of Admit`."
   ],
   "cell_type": "markdown",
   "metadata": {}
  },
  {
   "source": [
    "## 7. Visualización en 3D (4 puntos)\n",
    "\n",
    "Crea una gráfica 3D con los dos ejes más representativos, y el plano ajustado correspondiente a `Chance of Admit`."
   ],
   "cell_type": "markdown",
   "metadata": {}
  },
  {
   "source": [
    "Total de puntos: 20\n",
    "\n",
    "Mínimos requeridos: 10"
   ],
   "cell_type": "markdown",
   "metadata": {}
  }
 ]
}