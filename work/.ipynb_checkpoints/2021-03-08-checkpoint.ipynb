{
 "cells": [
  {
   "cell_type": "markdown",
   "metadata": {},
   "source": [
    "# Trabajo del día lunes 8 de marzo de 2021\n",
    "\n",
    "_Feliz día internacional de la mujer_\n",
    "\n",
    "Alan Badillo Salas dragonnomada123@gmail.com\n",
    "\n",
    "## Introducción\n",
    "\n",
    "En el siguiente documento de trabajo, se presentan una serie de ejercicios relacionados al curso de Machine Learning del CIC-IPN. El 50% de estos ejercicios son obligatorios para la evaluación final. Deberá elegir al menos uno de cada dos ejercicios para resolverlos y enviarlos al correo dragonnomada123 con el sujeto *Machine Learning IPN - Trabajo 8 marzo 2021*. En el contenido del correo deberá especificar su nombre completo y adjuntar el archivo *.ipynb* que contenga los ejercicios resueltos, en la primera celda de la _notebook_ deberá repetir en el título *Machine Learning IPN - Trabajo 8 marzo 2021* y su nombre completo. No hay fecha de entrega obligatoria, pero si no recibe correo de confirmación de entrega, deberá ser responsable de insistir en la entrega y respuesta."
   ]
  },
  {
   "cell_type": "markdown",
   "metadata": {},
   "source": [
    "## 1. Distribución normal\n",
    "\n",
    "Crear un arreglo de numpy que contenga 101 datos aleatorios, generados bajo la distribución normal utilizando `np.random.normal(mu, sigma, 101)`, donde `mu` es el promedio y `sigma` es la desviación estándar. Graficar los datos usando `plt.hist(x)`, donde `x` es el arreglo generado de los 101 valores aleatorios.\n",
    "\n",
    "**Documentación**\n",
    "\n",
    "_Arreglo aleatorio con distribución normal con Numpy_\n",
    "\n",
    "https://numpy.org/doc/stable/reference/random/generated/numpy.random.normal.html"
   ]
  },
  {
   "cell_type": "markdown",
   "metadata": {},
   "source": [
    "## 2. Modelo matemático I\n",
    "\n",
    "* Calcula el espacio lineal `x = np.linspace(-1, 1, 21)`.\n",
    "* Crea el arreglo `y = np.zeros(21)`\n",
    "* Recorre los índices `i` con `for i in range(21)` y ajusta `y[i] = x[i]`. \n",
    "* Visualiza los puntos usando `plt.scatter(x, y)`.\n",
    "\n",
    "**Documentación** \n",
    "\n",
    "_Espacios líneales con Numpy_\n",
    "\n",
    "https://numpy.org/doc/stable/reference/generated/numpy.linspace.html?highlight=linspace#numpy.linspace"
   ]
  },
  {
   "cell_type": "markdown",
   "metadata": {},
   "source": [
    "## 3. Modelo matemático II\n",
    "\n",
    "* Calcula los espacios lineales `x = np.linspace(-1, 1, 21)` y `y = np.linspace(-1, 1, 21)`. \n",
    "* Crea una matriz de puntos `z = np.zeros((21, 21))`.\n",
    "* Recorre los índices `i` y `j` como se muestra.\n",
    "```py\n",
    "for i in range(21):\n",
    "    for j in range(21):\n",
    "        # TODO: calcular z[i][j]\n",
    "```\n",
    "* Calcula `z[i][j] = x[j] ** 2 + y[i] ** 2`\n",
    "* Investiga como graficar en tres dimensiones `x`, `y` y `z`.\n",
    "\n",
    "**Documentación**\n",
    "\n",
    "_Graficación de superficies con Matplotlib_\n",
    "\n",
    "https://matplotlib.org/stable/gallery/mplot3d/surface3d.html#sphx-glr-gallery-mplot3d-surface3d-py"
   ]
  },
  {
   "cell_type": "markdown",
   "metadata": {},
   "source": [
    "## 4. Adquisición de datos\n",
    "\n",
    "* Descarga los datasets del UCI Machine Learning Datasets disponibles en https://archive.ics.uci.edu/ml/datasets/Wine+Quality (son dos archivos CSV llamados `winequality-red.csv` y `winequality-white.csv`).\n",
    "* Usa `red_data = pd.read_csv(\"winequality-red.csv\")` y `white_data = pd.read_csv(\"winequality-white.csv\")`, para cargar los datos con pandas.\n",
    "* Muestra las primeras 10 columnas usando `red_data.head(10)` y `white_data.head(10)`.\n",
    "* Muestra los estadísticos principales de cada dataset usando `red_data.describe()` y `white_data.describe()`.\n",
    "\n",
    "**Documentación**\n",
    "\n",
    "_Datasets del vino rojo y blanco_\n",
    "\n",
    "https://archive.ics.uci.edu/ml/machine-learning-databases/wine-quality/\n",
    "\n",
    "_Tutorial de Pandas de W3Schools_\n",
    "\n",
    "https://www.w3schools.com/python/pandas/default.asp\n",
    "\n",
    "_Leer archivos CSV con Pandas_\n",
    "\n",
    "https://pandas.pydata.org/pandas-docs/stable/reference/api/pandas.read_csv.html\n",
    "\n",
    "_Calcular estadísticos con Pandas_\n",
    "\n",
    "https://pandas.pydata.org/docs/getting_started/intro_tutorials/06_calculate_statistics.html"
   ]
  },
  {
   "cell_type": "code",
   "execution_count": null,
   "metadata": {},
   "outputs": [],
   "source": []
  }
 ],
 "metadata": {
  "kernelspec": {
   "display_name": "Python 3",
   "language": "python",
   "name": "python3"
  },
  "language_info": {
   "codemirror_mode": {
    "name": "ipython",
    "version": 3
   },
   "file_extension": ".py",
   "mimetype": "text/x-python",
   "name": "python",
   "nbconvert_exporter": "python",
   "pygments_lexer": "ipython3",
   "version": "3.9.0"
  }
 },
 "nbformat": 4,
 "nbformat_minor": 4
}
