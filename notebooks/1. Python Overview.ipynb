{
 "cells": [
  {
   "cell_type": "markdown",
   "metadata": {},
   "source": [
    "# Python Overview\n",
    "\n",
    "Alan Badillo Salas\n",
    "dragonnomada123@gmail.com\n",
    "\n",
    "Python es un lenguaje de programación diseñado por Guido Van Rossum, cuyo enfoque es ser legible y sintáctico. El lenguaje es interpretado, no tipado y multiparadigma."
   ]
  },
  {
   "cell_type": "markdown",
   "metadata": {},
   "source": [
    "## Variables y tipos de datos\n",
    "\n",
    "Los tipos de datos principales son número entero `int`, número decimal `float`, número complejo `complex`, valor lógico `bool`, texto `str`, lista `list`, tupla `tuple` y diccionario `dict`. Las variables pueden retener valores de los tipos de datos anteriores y no necesitan ser declaradas, sólo asignadas o reasignadas."
   ]
  },
  {
   "cell_type": "code",
   "execution_count": null,
   "metadata": {},
   "outputs": [],
   "source": [
    "edad = 18\n",
    "peso = 64.5\n",
    "complejo = 12 + 34.56j\n",
    "nombre = \"Ana White\" # equivalente a 'Ana White'\n",
    "casado = False\n",
    "mayor_edad = True\n",
    "colores_favoritos = [\"rojo\", \"verde\", \"gris\"]\n",
    "ubicacion = (-95.83, 112.17)\n",
    "direccion = {\n",
    "    \"calle\": \"Av. Siempre Viva\",\n",
    "    \"num_ext\": 123,\n",
    "    \"num_int\": 0,\n",
    "    \"colonia\": \"Condesa\",\n",
    "    \"ciudad\": \"Ciudad de México\",\n",
    "    \"codigo_postal\": \"15900\"\n",
    "}"
   ]
  },
  {
   "cell_type": "markdown",
   "metadata": {},
   "source": [
    "## Estructuras de Control\n",
    "\n",
    "La condicional `if` permite evaluar una o múltiples condiciones y ejecutar el bloque de código que cumple la condición, opcionalmente, puede definir un bloque falso en caso de que ninguna condición se cumpla. Se usa para realizar cómputo basado en condiciones.\n",
    "\n",
    "```py\n",
    "if <condicion>:\n",
    "    [bloque verdadero]\n",
    "[elif <condicion_alternativa>:]\n",
    "    [bloque alternativo]\n",
    "[... elif <condicion_alternativa>:]\n",
    "    [... bloque alternativo]\n",
    "[else:]\n",
    "    [bloque falso / si no se cumple ninguna condición anterior]\n",
    "```\n",
    "    "
   ]
  },
  {
   "cell_type": "code",
   "execution_count": 23,
   "metadata": {},
   "outputs": [
    {
     "name": "stdin",
     "output_type": "stream",
     "text": [
      "Ingresa x: 4\n"
     ]
    },
    {
     "name": "stdout",
     "output_type": "stream",
     "text": [
      "Positivo estricto\n"
     ]
    }
   ],
   "source": [
    "x = int( input(\"Ingresa x:\") ) # input(prompt) devuelve un texto desde la entrada estándar\n",
    "# int(value) convierte de ser posible un valor a entero\n",
    "\n",
    "if x < 0:\n",
    "    print(\"Negativo estricto\")\n",
    "elif x == 0:\n",
    "    print(\"Cero\")\n",
    "else:\n",
    "    print(\"Positivo estricto\")"
   ]
  },
  {
   "cell_type": "markdown",
   "metadata": {},
   "source": [
    "El iterador `for` permite recorrer un elemento de una secuencia o iterable, como puede ser un rango, una lista, un diccionario, etc. Se usa para recorrer elementos.\n",
    "\n",
    "```py\n",
    "for <iterando> in <secuencia/iterable>:\n",
    "    [bloque del iterando]\n",
    "```"
   ]
  },
  {
   "cell_type": "code",
   "execution_count": 4,
   "metadata": {},
   "outputs": [
    {
     "name": "stdout",
     "output_type": "stream",
     "text": [
      "El valor de i es 1\n",
      "El valor de i es 2\n",
      "El valor de i es 3\n",
      "El valor de i es 4\n",
      "El valor de i es 5\n"
     ]
    }
   ],
   "source": [
    "for i in range(1, 6):\n",
    "    print(\"El valor de i es {}\".format(i))"
   ]
  },
  {
   "cell_type": "markdown",
   "metadata": {},
   "source": [
    "El ciclo condicional `while` repite un bloque de código, mientras la condición se cumpla, se puede usar `break` y `continue` para romper el ciclo, o reevaluar la siguiente condición. Se usa para crear ciclos determinados por condiciones.\n",
    "\n",
    "```py\n",
    "while <condicion>:\n",
    "    [bloque]\n",
    "    [\n",
    "        if <condicion_para>: \n",
    "            break\n",
    "    ]\n",
    "    [\n",
    "        if <condicion_salta>: \n",
    "            continue\n",
    "    ]\n",
    "```"
   ]
  },
  {
   "cell_type": "code",
   "execution_count": 7,
   "metadata": {},
   "outputs": [
    {
     "name": "stdout",
     "output_type": "stream",
     "text": [
      "Los primeros 20 números primos son: [2, 3, 5, 7, 11, 13, 17, 19, 23, 29, 31, 37, 41, 43, 47, 53, 59, 61, 67, 71]\n"
     ]
    }
   ],
   "source": [
    "primos = []\n",
    "n = 2\n",
    "\n",
    "while len(primos) < 20:\n",
    "    n_es_primo = True\n",
    "    for p in primos:\n",
    "        if n % p == 0:\n",
    "            n_es_primo = False\n",
    "            break\n",
    "    if n_es_primo:\n",
    "        primos.append(n)\n",
    "    n += 1 # equivale a n = n + 1\n",
    "        \n",
    "print(\"Los primeros {} números primos son: {}\".format(len(primos), primos))"
   ]
  },
  {
   "cell_type": "markdown",
   "metadata": {},
   "source": [
    "## Listas\n",
    "\n",
    "Las listas permiten retener valores de cualquier tipo de datos. También poseen métodos para insertar, reemplazar y quitar elementos. Los valores pueden ser accedidos mediante un índice que comienza en cero, o negativamente desde el -1."
   ]
  },
  {
   "cell_type": "code",
   "execution_count": 8,
   "metadata": {},
   "outputs": [
    {
     "name": "stdout",
     "output_type": "stream",
     "text": [
      "['plátano', 'kiwi']\n"
     ]
    }
   ],
   "source": [
    "frutas = [\"manzana\", \"pera\", \"kiwi\"]\n",
    "\n",
    "frutas.append(\"plátano\") # Inserta un elemento al final. [\"manzana\", \"pera\", \"kiwi\", \"plátano\"]\n",
    "frutas.pop() # Quita el último elemento de la lista. [\"manzana\", \"pera\", \"kiwi\"]\n",
    "frutas.pop(1) # Quita el elemento en el índice 1, es decir, el segundo elemento, ya que el primero tiene índice 0. [\"manzana\", \"kiwi\"]\n",
    "frutas.insert(1, \"plátano\") # Inserta el elemento en el índice 1, es decir, después del elemento con índice 0. [\"manzana\", \"plátano\", \"kiwi\"]\n",
    "frutas.remove(\"manzana\") # Quita el primer elemento igual a \"manzana\". [\"plátano\", \"kiwi\"]\n",
    "\n",
    "print(frutas)"
   ]
  },
  {
   "cell_type": "code",
   "execution_count": 13,
   "metadata": {},
   "outputs": [
    {
     "name": "stdout",
     "output_type": "stream",
     "text": [
      "17\n",
      "23\n",
      "54\n",
      "21\n",
      "[23, 55, 72, 34, 25]\n",
      "[23, 72, 25]\n",
      "[34, 25, 21]\n",
      "[21, 25, 34]\n"
     ]
    }
   ],
   "source": [
    "edades = [17, 16, 18, 23, 55, 72, 34, 25, 21, 48, 54]\n",
    "\n",
    "print(edades[0]) # Imprime la edad con índice 0, es decir, la edad de 17\n",
    "print(edades[3]) # Imprime la edad con índice 3, es decir, la edad de 23\n",
    "print(edades[-1]) # Imprime la edad con índice -1, es decir, la última edad de 54\n",
    "print(edades[-3]) # Imprime la edad con índice -3, es decir, la edad de 21\n",
    "print(edades[3:8]) # Imprime la sublista de edades con índices 3, 4, 5, 6, 7, es decir, [23, 55, 72, 34, 25] ! ATENCIÓN: No imprime el último índice\n",
    "print(edades[3:8:2]) # Imprime la sublista de edades con índices 3, 5, 7, es decir, [23, 72, 25] ! ATENCIÓN: Salta de 2 índices en 2 índices, el último es ignorado\n",
    "print(edades[-5:-2]) # Imprime la sublista [34, 25, 21] ! ATENCIÓN: El último índice nunca se toca\n",
    "print(edades[-3:-6:-1]) # Imprime la sublista [21, 25, 34] ! ATENCIÓN: El último índice nunca se toca"
   ]
  },
  {
   "cell_type": "markdown",
   "metadata": {},
   "source": [
    "## Tuplas\n",
    "\n",
    "Las tuplas permiten empaquetar valores, para transportarlos o manipularlos más fácilmente. Si se empaquetan dos valores le llamaremos dos-tupla, para tres valores le llamaremos tres-tupla y así. Se usan para referirse a un sólo elemento, que tiene cardinalidad igual al tamaño de la tupla, por ejemplo, para un punto en dos dimensiones, podemos usar una dos-tupla, que guarde el valor de `x` y `y`.\n",
    "\n",
    "```py\n",
    "# definir una tres tupla\n",
    "p = (1, -1, 2)\n",
    "\n",
    "# desempacar una tres tupla en tres variables\n",
    "x, y, z = p\n",
    "\n",
    "# acceder a los valores de la tupla por índice\n",
    "x = p[0]\n",
    "y = p[1]\n",
    "z = p[2]\n",
    "```"
   ]
  },
  {
   "cell_type": "code",
   "execution_count": 15,
   "metadata": {},
   "outputs": [
    {
     "name": "stdout",
     "output_type": "stream",
     "text": [
      "[(0, 0), (1, 1), (2, 4), (3, 9), (4, 16), (5, 25), (6, 36), (7, 49), (8, 64), (9, 81)]\n",
      "x: 0, y: 0\n",
      "x: 1, y: 1\n",
      "x: 2, y: 4\n",
      "x: 3, y: 9\n",
      "x: 4, y: 16\n",
      "x: 5, y: 25\n",
      "x: 6, y: 36\n",
      "x: 7, y: 49\n",
      "x: 8, y: 64\n",
      "x: 9, y: 81\n"
     ]
    }
   ],
   "source": [
    "puntos = []\n",
    "\n",
    "for i in range(10):\n",
    "    p = (i, i ** 2)\n",
    "    \n",
    "    puntos.append(p)\n",
    "    \n",
    "print(puntos)\n",
    "\n",
    "for x, y in puntos:\n",
    "    print(\"x: {}, y: {}\".format(x, y))"
   ]
  },
  {
   "cell_type": "markdown",
   "metadata": {},
   "source": [
    "## Diccionarios\n",
    "\n",
    "Los diccionarios permiten retener valores mediante claves definidas, en lugar de índices numéricos. Se usan para retener valores compuestos de diferentes tipos en una misma entidad.\n",
    "\n",
    "```py\n",
    "diccionario = {\n",
    "    <clave_1>: <valor_1>,\n",
    "    <clave_2>: <valor_2>,\n",
    "    ...\n",
    "    <clave_n>: <valor_n>\n",
    "}\n",
    "```"
   ]
  },
  {
   "cell_type": "code",
   "execution_count": 18,
   "metadata": {},
   "outputs": [
    {
     "name": "stdout",
     "output_type": "stream",
     "text": [
      "Nombre: persona 0, Edad: 0\n",
      "Nombre: persona 1, Edad: 1\n",
      "Nombre: persona 2, Edad: 4\n",
      "Nombre: persona 3, Edad: 9\n",
      "Nombre: persona 4, Edad: 16\n",
      "Nombre: persona 5, Edad: 25\n",
      "Nombre: persona 6, Edad: 36\n",
      "Nombre: persona 7, Edad: 49\n",
      "Nombre: persona 8, Edad: 64\n",
      "Nombre: persona 9, Edad: 81\n"
     ]
    }
   ],
   "source": [
    "personas = []\n",
    "\n",
    "for i in range(10):\n",
    "    persona = { \"nombre\": \"persona {}\".format(i), \"edad\": i ** 2 }\n",
    "    \n",
    "    personas.append(persona)\n",
    "    \n",
    "for persona in personas:\n",
    "    print(\"Nombre: {}, Edad: {}\".format(persona[\"nombre\"], persona[\"edad\"]))"
   ]
  },
  {
   "cell_type": "markdown",
   "metadata": {},
   "source": [
    "## Funciones\n",
    "\n",
    "Las funciones permiten tomar entradas y producir una sola salida. Aunque la salida podría ser una tupla o diccionario que mezcle múltiples valores.\n",
    "\n",
    "```py\n",
    "def <nombre_funcion>([<parametros>]):\n",
    "    [bloque / ecuaciones]\n",
    "    return <salida>\n",
    "```"
   ]
  },
  {
   "cell_type": "code",
   "execution_count": 20,
   "metadata": {},
   "outputs": [
    {
     "data": {
      "text/plain": [
       "[2, 4, 18, 36, 42]"
      ]
     },
     "execution_count": 20,
     "metadata": {},
     "output_type": "execute_result"
    }
   ],
   "source": [
    "# Definimos la función\n",
    "def extraer_pares(numeros):\n",
    "    pares = []\n",
    "    \n",
    "    for n in numeros:\n",
    "        if n % 2 == 0:\n",
    "            pares.append(n)\n",
    "            \n",
    "    return pares\n",
    "\n",
    "# Llamamos a la función para probarla\n",
    "extraer_pares([1, 2, 3, 4, 5, 18, 23, 25, 37, 36, 45, 42])"
   ]
  }
 ],
 "metadata": {
  "kernelspec": {
   "display_name": "Python 3",
   "language": "python",
   "name": "python3"
  },
  "language_info": {
   "codemirror_mode": {
    "name": "ipython",
    "version": 3
   },
   "file_extension": ".py",
   "mimetype": "text/x-python",
   "name": "python",
   "nbconvert_exporter": "python",
   "pygments_lexer": "ipython3",
   "version": "3.9.0"
  }
 },
 "nbformat": 4,
 "nbformat_minor": 4
}
