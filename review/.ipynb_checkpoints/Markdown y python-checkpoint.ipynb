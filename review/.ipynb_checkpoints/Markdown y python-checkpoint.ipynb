{
 "cells": [
  {
   "cell_type": "markdown",
   "metadata": {},
   "source": [
    "# Título\n",
    "\n",
    "## Subtítulo\n",
    "\n",
    "### Cabecera\n",
    "\n",
    "#### Subcabecera\n",
    "\n",
    "Texto en **negritas** o __negritas__\n",
    "\n",
    "Texto en *cursivas* o _cursivas_\n",
    "\n",
    "Texto en **_negritas y cursiva_** o __*negritas y cursiva*__"
   ]
  },
  {
   "cell_type": "markdown",
   "metadata": {},
   "source": [
    "## Listas\n",
    "\n",
    "* Elemento 1\n",
    "* Elemento 2\n",
    "* Elemento 3\n",
    "* ...\n",
    "* Elemento N"
   ]
  },
  {
   "cell_type": "markdown",
   "metadata": {},
   "source": [
    "## Listas ordenadas\n",
    "\n",
    "1. Elemento 1\n",
    "2. Elemento 2\n",
    "3. Elemento 3\n",
    "4. ...\n",
    "5. Elemento N"
   ]
  },
  {
   "cell_type": "markdown",
   "metadata": {},
   "source": [
    "## Tablas\n",
    "\n",
    "Columna A | Columna B | Columna C | ... | Columna N\n",
    "--- | --- | --- | --- | ---\n",
    "a1 | b1 | c1 | ... | n1\n",
    "a2 | b2 | c2 | ... | n2\n",
    "a3 | b3 | c3 | ... | n3\n",
    "... | ... | ... | ... | ...\n",
    "am | bm | cm | ... | nm"
   ]
  },
  {
   "cell_type": "markdown",
   "metadata": {},
   "source": [
    "## Tablas centradas o cargadas en columna\n",
    "\n",
    "Nombre | Izquierda | Derecha | Centro\n",
    "--- | :-- | --: | :-:\n",
    "Pepe | Dominic | Tecum | Protestare\n",
    " x | x | x | x"
   ]
  },
  {
   "cell_type": "markdown",
   "metadata": {},
   "source": [
    "## Experimento 1\n",
    "\n",
    "Consiste en mostrar una serie de datos y graficar"
   ]
  },
  {
   "cell_type": "markdown",
   "metadata": {},
   "source": [
    "### Paso 1. Establecer los datos de cada eje\n",
    "\n",
    "Usamos el eje de las edades y eje de los géneros"
   ]
  },
  {
   "cell_type": "code",
   "execution_count": 2,
   "metadata": {},
   "outputs": [],
   "source": [
    "edades = [13, 17, 21, 14, 56]\n",
    "generos = [\"M\", \"M\", \"H\", \"H\", \"M\"]"
   ]
  },
  {
   "cell_type": "markdown",
   "metadata": {},
   "source": [
    "### Paso 2. Calcular la suma de edades por género\n",
    "\n",
    "1. Calculamos los géneros distintos\n",
    "2. Sumamos cada género e una lista"
   ]
  },
  {
   "cell_type": "code",
   "execution_count": 7,
   "metadata": {},
   "outputs": [
    {
     "data": {
      "text/plain": [
       "[(13, 'M'), (17, 'M'), (21, 'H'), (14, 'H'), (56, 'M')]"
      ]
     },
     "execution_count": 7,
     "metadata": {},
     "output_type": "execute_result"
    }
   ],
   "source": [
    "# Pista: Iterar dos listas al mismo tiempo, usando un for\n",
    "\n",
    "edades_generos = zip(edades, generos)\n",
    "\n",
    "list(edades_generos)"
   ]
  },
  {
   "cell_type": "code",
   "execution_count": 13,
   "metadata": {},
   "outputs": [
    {
     "name": "stdout",
     "output_type": "stream",
     "text": [
      "hola\n"
     ]
    }
   ],
   "source": [
    "# Pista: Continuación, recorremos los elementos)\n",
    "\n",
    "print(\"hola\")\n",
    "\n",
    "for edad, genero in list(edades_generos):\n",
    "    print(\"Hola\", edad, genero)"
   ]
  },
  {
   "cell_type": "code",
   "execution_count": null,
   "metadata": {},
   "outputs": [],
   "source": [
    "generos_dist = list( set(generos) ) # set(conjunto) devuelve un conjunto de valores distintos, \n",
    "# list(...) convierte un elemento a lista\n",
    "\n",
    "suma_edades = []\n",
    "\n",
    "for genero in generos_dist:\n",
    "    s = 0\n",
    "    for edad, genero"
   ]
  },
  {
   "cell_type": "markdown",
   "metadata": {},
   "source": [
    "### Paso 2. Graficar\n",
    "\n",
    "Graficamos la suma de edades por género"
   ]
  }
 ],
 "metadata": {
  "kernelspec": {
   "display_name": "Python 3",
   "language": "python",
   "name": "python3"
  },
  "language_info": {
   "codemirror_mode": {
    "name": "ipython",
    "version": 3
   },
   "file_extension": ".py",
   "mimetype": "text/x-python",
   "name": "python",
   "nbconvert_exporter": "python",
   "pygments_lexer": "ipython3",
   "version": "3.9.0"
  }
 },
 "nbformat": 4,
 "nbformat_minor": 4
}
