{
 "cells": [
  {
   "cell_type": "markdown",
   "metadata": {},
   "source": [
    "# Título\n",
    "\n",
    "## Subtítulo\n",
    "\n",
    "### Cabecera\n",
    "\n",
    "#### Subcabecera\n",
    "\n",
    "Texto en **negritas** o __negritas__\n",
    "\n",
    "Texto en *cursivas* o _cursivas_\n",
    "\n",
    "Texto en **_negritas y cursiva_** o __*negritas y cursiva*__"
   ]
  },
  {
   "cell_type": "markdown",
   "metadata": {},
   "source": [
    "## Listas\n",
    "\n",
    "* Elemento 1\n",
    "* Elemento 2\n",
    "* Elemento 3\n",
    "* ...\n",
    "* Elemento N"
   ]
  },
  {
   "cell_type": "markdown",
   "metadata": {},
   "source": [
    "## Listas ordenadas\n",
    "\n",
    "1. Elemento 1\n",
    "2. Elemento 2\n",
    "3. Elemento 3\n",
    "4. ...\n",
    "5. Elemento N"
   ]
  },
  {
   "cell_type": "markdown",
   "metadata": {},
   "source": [
    "## Tablas\n",
    "\n",
    "Columna A | Columna B | Columna C | ... | Columna N\n",
    "--- | --- | --- | --- | ---\n",
    "a1 | b1 | c1 | ... | n1\n",
    "a2 | b2 | c2 | ... | n2\n",
    "a3 | b3 | c3 | ... | n3\n",
    "... | ... | ... | ... | ...\n",
    "am | bm | cm | ... | nm"
   ]
  },
  {
   "cell_type": "markdown",
   "metadata": {},
   "source": [
    "## Tablas centradas o cargadas en columna\n",
    "\n",
    "Nombre | Izquierda | Derecha | Centro\n",
    "--- | :-- | --: | :-:\n",
    "Pepe | Dominic | Tecum | Protestare\n",
    " x | x | x | x"
   ]
  },
  {
   "cell_type": "markdown",
   "metadata": {},
   "source": [
    "## Experimento 1\n",
    "\n",
    "Consiste en mostrar una serie de datos y graficar"
   ]
  },
  {
   "cell_type": "markdown",
   "metadata": {},
   "source": [
    "### Paso 1. Establecer los datos de cada eje\n",
    "\n",
    "Usamos el eje de las edades y eje de los géneros"
   ]
  },
  {
   "cell_type": "code",
   "execution_count": 2,
   "metadata": {},
   "outputs": [],
   "source": [
    "edades = [13, 17, 21, 14, 56]\n",
    "generos = [\"M\", \"M\", \"H\", \"H\", \"M\"]"
   ]
  },
  {
   "cell_type": "markdown",
   "metadata": {},
   "source": [
    "### Paso 2. Calcular la suma de edades por género\n",
    "\n",
    "1. Calculamos los géneros distintos\n",
    "2. Sumamos cada género e una lista"
   ]
  },
  {
   "cell_type": "code",
   "execution_count": 21,
   "metadata": {},
   "outputs": [
    {
     "data": {
      "text/plain": [
       "[(13, 'M'), (17, 'M'), (21, 'H'), (14, 'H'), (56, 'M')]"
      ]
     },
     "execution_count": 21,
     "metadata": {},
     "output_type": "execute_result"
    }
   ],
   "source": [
    "# Pista: Iterar dos listas al mismo tiempo, usando un for\n",
    "\n",
    "edades_generos = list( zip(edades, generos) )\n",
    "\n",
    "edades_generos"
   ]
  },
  {
   "cell_type": "code",
   "execution_count": 19,
   "metadata": {},
   "outputs": [
    {
     "name": "stdout",
     "output_type": "stream",
     "text": [
      "13 M\n",
      "17 M\n",
      "21 H\n",
      "14 H\n",
      "56 M\n"
     ]
    }
   ],
   "source": [
    "# Pista: Continuación, recorremos los elementos)\n",
    "\n",
    "for edad, genero in edades_generos:\n",
    "    print(edad, genero)"
   ]
  },
  {
   "cell_type": "code",
   "execution_count": 23,
   "metadata": {},
   "outputs": [
    {
     "name": "stdout",
     "output_type": "stream",
     "text": [
      "['M', 'H']\n"
     ]
    },
    {
     "data": {
      "text/plain": [
       "[86, 35]"
      ]
     },
     "execution_count": 23,
     "metadata": {},
     "output_type": "execute_result"
    }
   ],
   "source": [
    "generos_dist = list( set(generos) ) # set(conjunto) devuelve un conjunto de valores distintos, \n",
    "# list(...) convierte un elemento a lista\n",
    "\n",
    "print(generos_dist)\n",
    "\n",
    "suma_edades = []\n",
    "\n",
    "for gen in generos_dist:\n",
    "    s = 0\n",
    "    for edad, genero in edades_generos:\n",
    "        if genero == gen:\n",
    "            s += edad\n",
    "    suma_edades.append(s)\n",
    "    \n",
    "suma_edades"
   ]
  },
  {
   "cell_type": "markdown",
   "metadata": {},
   "source": [
    "### Paso 3. Graficar\n",
    "\n",
    "Graficamos la suma de edades por género"
   ]
  },
  {
   "cell_type": "code",
   "execution_count": 30,
   "metadata": {},
   "outputs": [
    {
     "data": {
      "text/plain": [
       "<BarContainer object of 2 artists>"
      ]
     },
     "execution_count": 30,
     "metadata": {},
     "output_type": "execute_result"
    },
    {
     "data": {
      "image/png": "[encoded data removed]",
      "text/plain": [
       "<Figure size 432x288 with 1 Axes>"
      ]
     },
     "metadata": {
      "needs_background": "light"
     },
     "output_type": "display_data"
    }
   ],
   "source": [
    "import matplotlib.pyplot as plt\n",
    "\n",
    "plt.bar(generos_dist, suma_edades, color = \"gray\")"
   ]
  },
  {
   "cell_type": "code",
   "execution_count": null,
   "metadata": {},
   "outputs": [],
   "source": []
  }
 ],
 "metadata": {
  "kernelspec": {
   "display_name": "Python 3",
   "language": "python",
   "name": "python3"
  },
  "language_info": {
   "codemirror_mode": {
    "name": "ipython",
    "version": 3
   },
   "file_extension": ".py",
   "mimetype": "text/x-python",
   "name": "python",
   "nbconvert_exporter": "python",
   "pygments_lexer": "ipython3",
   "version": "3.9.0"
  }
 },
 "nbformat": 4,
 "nbformat_minor": 4
}
